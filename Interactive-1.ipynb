{
 "cells": [
  {
   "cell_type": "markdown",
   "metadata": {},
   "source": [
    "_Connecting to .venv (3.12.3) (Python 3.12.3)..._"
   ]
  },
  {
   "cell_type": "code",
   "execution_count": null,
   "id": "bb139286-00a6-46fa-bce9-365d1413a0fa",
   "metadata": {},
   "outputs": [],
   "source": [
    "# full script to test outputs\n",
    "\n",
    "\n",
    "def get_book_text(path_to_file: str) -> str:\n",
    "    \"\"\"Reads the content of a book from a text file.\n",
    "\n",
    "    Args:\n",
    "        path_to_file (str): The path to the text file containing the book.\n",
    "    Returns:\n",
    "        str: The content of the book as a string.\n",
    "    \"\"\"\n",
    "    with open(path_to_file) as f:\n",
    "        #f is a file object\n",
    "        book_contents = f.read()\n",
    "    return book_contents\n",
    "\n",
    "def count_words(file_text: str) -> int:\n",
    "    \"\"\"Counts the number of words in a given text.\n",
    "\n",
    "    Args:\n",
    "        text (str): The text to count words in.\n",
    "    Returns:\n",
    "        int: The number of words in the text.\n",
    "    \"\"\"\n",
    "    words = file_text.split()\n",
    "    num_words = len(words)\n",
    "    return num_words\n",
    "\n",
    "print(count_words(get_book_text(\"books/frankenstein.txt\")))\n",
    "\n",
    "def count_characters(book_content: str) -> dict[str, int]:\n",
    "    \"\"\"Counts the number of characters in a given text.\n",
    "    Args:\n",
    "        text (str): The text to count characters in.\n",
    "    Returns:\n",
    "        dict: A dictionary with characters as keys and their counts as values.\n",
    "    \"\"\"\n",
    "    char_dict: dict[str, int] = {}\n",
    "\n",
    "    for text in book_content.split():\n",
    "        lower_text = text.lower()\n",
    "        for char in lower_text:\n",
    "            if char.isalpha():\n",
    "                if char in char_dict:\n",
    "                    char_dict[char] +1\n",
    "                else:\n",
    "                    char_dict[char] = 1\n",
    "    return char_dict\n",
    "\n",
    "print(count_characters(get_book_text(\"books/frankenstein.txt\")))"
   ]
  }
 ],
 "metadata": {
  "kernelspec": {
   "display_name": ".venv (3.12.3)",
   "language": "python",
   "name": "python3"
  },
  "language_info": {
   "name": "python",
   "version": "3.12.3"
  }
 },
 "nbformat": 4,
 "nbformat_minor": 5
}
